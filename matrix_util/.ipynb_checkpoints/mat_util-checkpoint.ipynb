{
 "cells": [
  {
   "cell_type": "code",
   "execution_count": 243,
   "metadata": {},
   "outputs": [
    {
     "data": {
      "text/plain": [
       "\"doesn't\""
      ]
     },
     "execution_count": 243,
     "metadata": {},
     "output_type": "execute_result"
    }
   ],
   "source": [
    "'doesn\\'t'"
   ]
  },
  {
   "cell_type": "code",
   "execution_count": 240,
   "metadata": {},
   "outputs": [],
   "source": [
    "class Matrix:\n",
    "    \n",
    "    \n",
    "    def __init__(self, l):\n",
    "        \n",
    "        assert isinstance(l, list),'input must be a list'\n",
    "        \n",
    "        try:\n",
    "            assert len(l) > 0 and len(l[0]) > 0\n",
    "        except:\n",
    "            raise TypeError('input must be 2D matrix')\n",
    "            \n",
    "        assert self.check_col_identical(l), 'each row should have same length'\n",
    "        \n",
    "        self.row_nums = len(l)\n",
    "        self.col_nums = len(l[0])\n",
    "        self.shape = (self.row_nums, self.col_nums)\n",
    "        self.matrix = l\n",
    "        \n",
    "        \n",
    "    def check_col_identical(self, l):\n",
    "        \n",
    "        mark = len(l[0])\n",
    "        \n",
    "        for i in range(1,len(l)):\n",
    "            \n",
    "            if len(l[i]) != mark:\n",
    "                return False\n",
    "            \n",
    "        return True\n",
    "    \n",
    "    \n",
    "    def validate_loc(self, loc):\n",
    "        \n",
    "        row_ind = loc[0]\n",
    "        col_ind = loc[1]\n",
    "        \n",
    "        assert row_ind >= 0 and row_ind < self.row_nums, 'row_ind exceeds boundary'\n",
    "        assert col_ind >= 0 and col_ind < self.col_nums, 'col_ind exceeds boundary'\n",
    "        \n",
    "        \n",
    "    @staticmethod    \n",
    "    def validate_2d(shape):\n",
    "        \n",
    "        assert isinstance(shape, tuple) or isinstance(shape, list), 'shape should be a 2d tuple or list'\n",
    "        assert len(list(shape)) == 2, 'can only create 2D matrix'\n",
    "        \n",
    "        \n",
    "    @staticmethod    \n",
    "    def validate_value(value):\n",
    "        \n",
    "        assert isinstance(value, int) or isinstance(value, float), 'can only accept numeric value for cell value'\n",
    "    \n",
    "    \n",
    "    def get_cell(self, loc):\n",
    "        \n",
    "        self.validate_loc(loc)\n",
    "        \n",
    "        return self.matrix[loc[0]][loc[1]]\n",
    "    \n",
    "    \n",
    "    def set_cell(self, loc, value):\n",
    "        \n",
    "        self.validate_loc(loc)\n",
    "        \n",
    "        self.matrix[loc[0]][loc[1]] = value\n",
    "    \n",
    "    \n",
    "    @classmethod\n",
    "    def create_matrix(cls, shape, cell_value):\n",
    "        \n",
    "        Matrix.validate_2d(shape)\n",
    "        Matrix.validate_value(cell_value)\n",
    "        \n",
    "        created_matrix = cls([[cell_value for c in range(shape[1])] for r in range(shape[0])])\n",
    "        \n",
    "        return created_matrix\n",
    "    \n",
    "    \n",
    "#     def traversal_matrix(matrix1, matrix2):\n",
    "        \n",
    "        \n",
    "    def validate_sum_sub(self, other):\n",
    "        \n",
    "        assert [self.row_nums, self.col_nums] == [other.row_nums, other.col_nums], 'Both matrix should have the same shape for summation'\n",
    "    \n",
    "    \n",
    "    def validate_mul(self, other):\n",
    "        \n",
    "        assert self.col_nums == other.row_nums, 'doesn\\'t meet matrix multiplication requirements'\n",
    "        \n",
    "        \n",
    "    def element_wise_operation(self, other, operation):\n",
    "        \n",
    "        self.validate_sum_sub(other)\n",
    "        \n",
    "        result = Matrix.create_matrix((self.row_nums, self.col_nums), 0.0)\n",
    "        \n",
    "        for r in range(self.row_nums):\n",
    "            for c in range(self.col_nums):\n",
    "                \n",
    "                c1 = self.get_cell((r, c))\n",
    "                c2 = other.get_cell((r, c))\n",
    "                \n",
    "                value = eval('c1 {sign} c2'.format(sign = operation), {}, {'c1': c1,'c2': c2})\n",
    "                \n",
    "                result.set_cell((r,c), value)\n",
    "                \n",
    "        return result\n",
    "    \n",
    "    \n",
    "    def matrix_mul_opration(self, other):\n",
    "        \n",
    "        self.validate_mul(other)\n",
    "        \n",
    "        result = Matrix.create_matrix((self.row_nums, other.col_nums), 0.0)\n",
    "        \n",
    "        for r in range(result.row_nums):\n",
    "            for c in range(result.col_nums):\n",
    "                \n",
    "                vr = self.vector\n",
    "    \n",
    "        \n",
    "    def __add__(self, other):\n",
    "        \n",
    "        summation = self.element_wise_operation(other, '+')\n",
    "        \n",
    "        return summation\n",
    "    \n",
    "    \n",
    "    def __sub__(self, other):\n",
    "        \n",
    "        substraction = self.element_wise_operation(other, '-')\n",
    "                \n",
    "        return substraction\n",
    "    \n",
    "    \n",
    "    def __mul__(self, other):\n",
    "        \n",
    "        product = self.matrix_mul_opration(other)\n",
    "        \n",
    "        return product\n",
    "        \n",
    "        \n",
    "    \n",
    "    \n",
    "    \n",
    "    \n",
    "    \n",
    "                \n",
    "                \n",
    "                \n",
    "                \n",
    "                \n",
    "\n",
    "        \n",
    "        "
   ]
  },
  {
   "cell_type": "code",
   "execution_count": 120,
   "metadata": {},
   "outputs": [],
   "source": [
    "test_matrix = [[1,2,3],[0,1,4],[7,-2,9]]"
   ]
  },
  {
   "cell_type": "code",
   "execution_count": 186,
   "metadata": {},
   "outputs": [],
   "source": [
    "a = 9\n",
    "b = 90\n",
    "exec('value = {c1} {operation} {c2}'.format(c1 = a, operation = '-', c2 = b))"
   ]
  },
  {
   "cell_type": "code",
   "execution_count": 209,
   "metadata": {},
   "outputs": [
    {
     "ename": "TypeError",
     "evalue": "'module' object is not callable",
     "output_type": "error",
     "traceback": [
      "\u001b[1;31m---------------------------------------------------------------------------\u001b[0m",
      "\u001b[1;31mTypeError\u001b[0m                                 Traceback (most recent call last)",
      "\u001b[1;32m<ipython-input-209-79f3a8b10fed>\u001b[0m in \u001b[0;36m<module>\u001b[1;34m()\u001b[0m\n\u001b[1;32m----> 1\u001b[1;33m \u001b[0m__builtin__\u001b[0m\u001b[1;33m(\u001b[0m\u001b[1;33m)\u001b[0m\u001b[1;33m\u001b[0m\u001b[0m\n\u001b[0m",
      "\u001b[1;31mTypeError\u001b[0m: 'module' object is not callable"
     ]
    }
   ],
   "source": []
  },
  {
   "cell_type": "code",
   "execution_count": 121,
   "metadata": {},
   "outputs": [],
   "source": [
    "m = Matrix(test_matrix)"
   ]
  },
  {
   "cell_type": "code",
   "execution_count": 155,
   "metadata": {},
   "outputs": [
    {
     "ename": "AssertionError",
     "evalue": "",
     "output_type": "error",
     "traceback": [
      "\u001b[1;31m---------------------------------------------------------------------------\u001b[0m",
      "\u001b[1;31mAssertionError\u001b[0m                            Traceback (most recent call last)",
      "\u001b[1;32m<ipython-input-155-5d6cb5bd4178>\u001b[0m in \u001b[0;36m<module>\u001b[1;34m()\u001b[0m\n\u001b[1;32m----> 1\u001b[1;33m \u001b[1;32massert\u001b[0m \u001b[1;33m[\u001b[0m\u001b[1;36m2\u001b[0m\u001b[1;33m,\u001b[0m\u001b[1;36m3\u001b[0m\u001b[1;33m]\u001b[0m \u001b[1;33m==\u001b[0m \u001b[1;33m[\u001b[0m\u001b[1;36m3\u001b[0m\u001b[1;33m,\u001b[0m\u001b[1;36m2\u001b[0m\u001b[1;33m]\u001b[0m\u001b[1;33m\u001b[0m\u001b[0m\n\u001b[0m",
      "\u001b[1;31mAssertionError\u001b[0m: "
     ]
    }
   ],
   "source": [
    "assert [2,3] == [3,2]"
   ]
  },
  {
   "cell_type": "code",
   "execution_count": 122,
   "metadata": {},
   "outputs": [
    {
     "data": {
      "text/plain": [
       "-2"
      ]
     },
     "execution_count": 122,
     "metadata": {},
     "output_type": "execute_result"
    }
   ],
   "source": [
    "m.get_cell((2,1))"
   ]
  },
  {
   "cell_type": "code",
   "execution_count": 231,
   "metadata": {},
   "outputs": [
    {
     "data": {
      "text/plain": [
       "[[6, 6, 6, 6, 6, 6],\n",
       " [6, 6, 6, 6, 6, 6],\n",
       " [6, 6, 6, 6, 6, 6],\n",
       " [6, 6, 6, -8, 6, 6]]"
      ]
     },
     "execution_count": 231,
     "metadata": {},
     "output_type": "execute_result"
    }
   ],
   "source": [
    "m1.matrix"
   ]
  },
  {
   "cell_type": "code",
   "execution_count": 242,
   "metadata": {},
   "outputs": [
    {
     "data": {
      "text/plain": [
       "[[7, 7, 7, 7, 7, 7],\n",
       " [7, 7, 7, 7, 7, 7],\n",
       " [7, 7, 9, 7, 7, 7],\n",
       " [7, 7, 7, -7, 7, 7]]"
      ]
     },
     "execution_count": 242,
     "metadata": {},
     "output_type": "execute_result"
    }
   ],
   "source": [
    "m1 = Matrix.create_matrix((4,6),6)\n",
    "m2 = Matrix.create_matrix((4,6),-1)\n",
    "m1.set_cell((3,3), -8)\n",
    "m2.set_cell((2,2), -3)\n",
    "m3 = m1 - m2\n",
    "m3.matrix"
   ]
  },
  {
   "cell_type": "code",
   "execution_count": 152,
   "metadata": {},
   "outputs": [
    {
     "ename": "TypeError",
     "evalue": "sequence item 0: expected str instance, list found",
     "output_type": "error",
     "traceback": [
      "\u001b[1;31m---------------------------------------------------------------------------\u001b[0m",
      "\u001b[1;31mTypeError\u001b[0m                                 Traceback (most recent call last)",
      "\u001b[1;32m<ipython-input-152-c384c0c7b6c7>\u001b[0m in \u001b[0;36m<module>\u001b[1;34m()\u001b[0m\n\u001b[1;32m----> 1\u001b[1;33m \u001b[0mprint\u001b[0m\u001b[1;33m(\u001b[0m\u001b[0mm\u001b[0m\u001b[1;33m)\u001b[0m\u001b[1;33m\u001b[0m\u001b[0m\n\u001b[0m",
      "\u001b[1;32m<ipython-input-150-388da6bfdbe1>\u001b[0m in \u001b[0;36m__repr__\u001b[1;34m(self)\u001b[0m\n\u001b[0;32m     80\u001b[0m     \u001b[1;32mdef\u001b[0m \u001b[0m__repr__\u001b[0m\u001b[1;33m(\u001b[0m\u001b[0mself\u001b[0m\u001b[1;33m)\u001b[0m\u001b[1;33m:\u001b[0m\u001b[1;33m\u001b[0m\u001b[0m\n\u001b[0;32m     81\u001b[0m \u001b[1;33m\u001b[0m\u001b[0m\n\u001b[1;32m---> 82\u001b[1;33m         \u001b[1;32mreturn\u001b[0m \u001b[1;33m(\u001b[0m\u001b[0mself\u001b[0m\u001b[1;33m.\u001b[0m\u001b[0m__class__\u001b[0m\u001b[1;33m.\u001b[0m\u001b[0m__name__\u001b[0m \u001b[1;33m+\u001b[0m \u001b[1;34m'({})'\u001b[0m\u001b[1;33m)\u001b[0m\u001b[1;33m.\u001b[0m\u001b[0mformat\u001b[0m\u001b[1;33m(\u001b[0m\u001b[1;33m(\u001b[0m\u001b[1;34m'\\n'\u001b[0m\u001b[1;33m)\u001b[0m\u001b[1;33m.\u001b[0m\u001b[0mjoin\u001b[0m\u001b[1;33m(\u001b[0m\u001b[0mself\u001b[0m\u001b[1;33m.\u001b[0m\u001b[0mmatrix\u001b[0m\u001b[1;33m)\u001b[0m\u001b[1;33m)\u001b[0m\u001b[1;33m\u001b[0m\u001b[0m\n\u001b[0m\u001b[0;32m     83\u001b[0m \u001b[1;33m\u001b[0m\u001b[0m\n\u001b[0;32m     84\u001b[0m \u001b[1;33m\u001b[0m\u001b[0m\n",
      "\u001b[1;31mTypeError\u001b[0m: sequence item 0: expected str instance, list found"
     ]
    }
   ],
   "source": [
    "print(m)"
   ]
  },
  {
   "cell_type": "code",
   "execution_count": null,
   "metadata": {},
   "outputs": [],
   "source": [
    "[[5 for c in shape[1]] for r in shape[0]]"
   ]
  },
  {
   "cell_type": "code",
   "execution_count": 142,
   "metadata": {},
   "outputs": [],
   "source": [
    "import numpy as np"
   ]
  },
  {
   "cell_type": "code",
   "execution_count": 147,
   "metadata": {},
   "outputs": [
    {
     "data": {
      "text/plain": [
       "matrix([[5, 5, 5, 5],\n",
       "        [5, 5, 5, 5],\n",
       "        [5, 5, 5, 5],\n",
       "        [5, 5, 5, 5],\n",
       "        [5, 5, 5, 5],\n",
       "        [5, 5, 5, 5]])"
      ]
     },
     "execution_count": 147,
     "metadata": {},
     "output_type": "execute_result"
    }
   ],
   "source": [
    "np.matrix([[5 for c in range(4)] for r in range(6)])"
   ]
  },
  {
   "cell_type": "code",
   "execution_count": null,
   "metadata": {},
   "outputs": [],
   "source": []
  }
 ],
 "metadata": {
  "kernelspec": {
   "display_name": "Python 3",
   "language": "python",
   "name": "python3"
  },
  "language_info": {
   "codemirror_mode": {
    "name": "ipython",
    "version": 3
   },
   "file_extension": ".py",
   "mimetype": "text/x-python",
   "name": "python",
   "nbconvert_exporter": "python",
   "pygments_lexer": "ipython3",
   "version": "3.6.5"
  }
 },
 "nbformat": 4,
 "nbformat_minor": 2
}
